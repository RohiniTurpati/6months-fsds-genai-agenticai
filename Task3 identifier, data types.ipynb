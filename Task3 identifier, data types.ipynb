{
 "cells": [
  {
   "cell_type": "markdown",
   "id": "8f748b81-4127-4375-b583-89592aa1bc66",
   "metadata": {},
   "source": [
    "# python tutorial #"
   ]
  },
  {
   "cell_type": "code",
   "execution_count": 6,
   "id": "825d9437-f70e-484f-9ae4-c6a4085b8617",
   "metadata": {},
   "outputs": [],
   "source": [
    "import sys\n",
    "import keyword\n",
    "import operator\n",
    "from datetime import datetime\n",
    "import os"
   ]
  },
  {
   "cell_type": "code",
   "execution_count": 7,
   "id": "fa89aa10-e13c-4bb7-b779-4878ce3a0e3b",
   "metadata": {},
   "outputs": [
    {
     "name": "stdout",
     "output_type": "stream",
     "text": [
      "['False', 'None', 'True', 'and', 'as', 'assert', 'async', 'await', 'break', 'class', 'continue', 'def', 'del', 'elif', 'else', 'except', 'finally', 'for', 'from', 'global', 'if', 'import', 'in', 'is', 'lambda', 'nonlocal', 'not', 'or', 'pass', 'raise', 'return', 'try', 'while', 'with', 'yield']\n"
     ]
    }
   ],
   "source": [
    "print(keyword.kwlist)"
   ]
  },
  {
   "cell_type": "code",
   "execution_count": 8,
   "id": "98cc7aa5-7240-4d69-aaca-4b45f5c5d80c",
   "metadata": {},
   "outputs": [
    {
     "data": {
      "text/plain": [
       "35"
      ]
     },
     "execution_count": 8,
     "metadata": {},
     "output_type": "execute_result"
    }
   ],
   "source": [
    "len(keyword.kwlist)"
   ]
  },
  {
   "cell_type": "markdown",
   "id": "fe61290a-9774-40fa-835b-7d362ae77993",
   "metadata": {},
   "source": [
    " # Identifiers #"
   ]
  },
  {
   "cell_type": "code",
   "execution_count": 9,
   "id": "653c4d7c-6a56-454b-97b3-7dd56f72c249",
   "metadata": {},
   "outputs": [
    {
     "ename": "SyntaxError",
     "evalue": "invalid decimal literal (4256868957.py, line 1)",
     "output_type": "error",
     "traceback": [
      "\u001b[1;36m  Cell \u001b[1;32mIn[9], line 1\u001b[1;36m\u001b[0m\n\u001b[1;33m    1var = 10\u001b[0m\n\u001b[1;37m    ^\u001b[0m\n\u001b[1;31mSyntaxError\u001b[0m\u001b[1;31m:\u001b[0m invalid decimal literal\n"
     ]
    }
   ],
   "source": [
    "1var = 10"
   ]
  },
  {
   "cell_type": "code",
   "execution_count": 10,
   "id": "a712d3dc-17a4-45a2-8108-1c0a2fb77e36",
   "metadata": {},
   "outputs": [
    {
     "ename": "SyntaxError",
     "evalue": "invalid syntax (3636076842.py, line 1)",
     "output_type": "error",
     "traceback": [
      "\u001b[1;36m  Cell \u001b[1;32mIn[10], line 1\u001b[1;36m\u001b[0m\n\u001b[1;33m    val2@ = 35\u001b[0m\n\u001b[1;37m          ^\u001b[0m\n\u001b[1;31mSyntaxError\u001b[0m\u001b[1;31m:\u001b[0m invalid syntax\n"
     ]
    }
   ],
   "source": [
    "val2@ = 35"
   ]
  },
  {
   "cell_type": "code",
   "execution_count": 11,
   "id": "d9c9d730-fd14-48cb-95fd-1c4523abf551",
   "metadata": {},
   "outputs": [
    {
     "ename": "SyntaxError",
     "evalue": "invalid syntax (765416513.py, line 1)",
     "output_type": "error",
     "traceback": [
      "\u001b[1;36m  Cell \u001b[1;32mIn[11], line 1\u001b[1;36m\u001b[0m\n\u001b[1;33m    import 125\u001b[0m\n\u001b[1;37m           ^\u001b[0m\n\u001b[1;31mSyntaxError\u001b[0m\u001b[1;31m:\u001b[0m invalid syntax\n"
     ]
    }
   ],
   "source": [
    "import 125"
   ]
  },
  {
   "cell_type": "code",
   "execution_count": 12,
   "id": "e31382db-a455-4e9d-92af-49ecc0f21083",
   "metadata": {},
   "outputs": [],
   "source": [
    "val2 = 10"
   ]
  },
  {
   "cell_type": "code",
   "execution_count": 13,
   "id": "addc0054-15df-4cdc-b3cf-5b242d7c6986",
   "metadata": {},
   "outputs": [],
   "source": [
    "val_=99"
   ]
  },
  {
   "cell_type": "markdown",
   "id": "d3c26c2e-f494-4d91-9136-5a70431c915a",
   "metadata": {},
   "source": [
    "# Comments in Python #"
   ]
  },
  {
   "cell_type": "code",
   "execution_count": 14,
   "id": "8a455b52-b911-4189-8ae0-4433b1082ca1",
   "metadata": {},
   "outputs": [],
   "source": [
    "val1 = 10"
   ]
  },
  {
   "cell_type": "code",
   "execution_count": 15,
   "id": "7fb6f6a1-f127-4763-b5a6-945bb8ef1fd1",
   "metadata": {},
   "outputs": [],
   "source": [
    "val1 = 10"
   ]
  },
  {
   "cell_type": "code",
   "execution_count": 16,
   "id": "b1b17bb5-6d38-4b1f-a054-827f9d556913",
   "metadata": {},
   "outputs": [],
   "source": [
    "val1 = 10"
   ]
  },
  {
   "cell_type": "code",
   "execution_count": 17,
   "id": "293b6a40-3de4-4d33-a00b-17c291bf90cc",
   "metadata": {},
   "outputs": [],
   "source": [
    "val1 = 10"
   ]
  },
  {
   "cell_type": "markdown",
   "id": "29b61039-417d-4c8d-a9a9-fab30bcff926",
   "metadata": {},
   "source": [
    "# Statements #"
   ]
  },
  {
   "cell_type": "code",
   "execution_count": 18,
   "id": "c4ccac52-6f03-4259-85bf-bd3407633059",
   "metadata": {},
   "outputs": [
    {
     "data": {
      "text/plain": [
       "(20, int, '0x7ffd56fd0c18')"
      ]
     },
     "execution_count": 18,
     "metadata": {},
     "output_type": "execute_result"
    }
   ],
   "source": [
    "p = 20\n",
    "q = 20\n",
    "r = q\n",
    "p , type(p), hex(id(p))"
   ]
  },
  {
   "cell_type": "code",
   "execution_count": 19,
   "id": "c371541f-c10b-432c-bd50-21550c0f5640",
   "metadata": {},
   "outputs": [
    {
     "data": {
      "text/plain": [
       "(20, int, '0x7ffd56fd0c18')"
      ]
     },
     "execution_count": 19,
     "metadata": {},
     "output_type": "execute_result"
    }
   ],
   "source": [
    "q, type(q), hex(id(q))"
   ]
  },
  {
   "cell_type": "code",
   "execution_count": 20,
   "id": "6bad53f1-93db-4796-9d88-d7ede0034012",
   "metadata": {},
   "outputs": [
    {
     "data": {
      "text/plain": [
       "(20, int, '0x7ffd56fd0c18')"
      ]
     },
     "execution_count": 20,
     "metadata": {},
     "output_type": "execute_result"
    }
   ],
   "source": [
    "r , type(r), hex(id(r))"
   ]
  },
  {
   "cell_type": "code",
   "execution_count": 21,
   "id": "890e6094-4077-480a-8b72-9d6f1b3080c6",
   "metadata": {},
   "outputs": [
    {
     "data": {
      "text/plain": [
       "30"
      ]
     },
     "execution_count": 21,
     "metadata": {},
     "output_type": "execute_result"
    }
   ],
   "source": [
    "p = 20\n",
    "p = p + 10\n",
    "p"
   ]
  },
  {
   "cell_type": "markdown",
   "id": "48be74ad-c186-4835-ba3f-b1bb1a914558",
   "metadata": {},
   "source": [
    "# Variable Assignment #"
   ]
  },
  {
   "cell_type": "code",
   "execution_count": 22,
   "id": "ddd6bcd5-1072-4bea-a32b-850bf1e849f3",
   "metadata": {},
   "outputs": [
    {
     "name": "stdout",
     "output_type": "stream",
     "text": [
      "10\n",
      "2.57\n",
      "python Language\n"
     ]
    }
   ],
   "source": [
    "intvar = 10\n",
    "floatvar = 2.57\n",
    "strvar =\"python Language\"\n",
    "\n",
    "print(intvar)\n",
    "print(floatvar)\n",
    "print(strvar)"
   ]
  },
  {
   "cell_type": "markdown",
   "id": "31fc7af5-4d53-4c0b-b03d-e38f94981873",
   "metadata": {},
   "source": [
    "# Multiple Assignments #"
   ]
  },
  {
   "cell_type": "code",
   "execution_count": 23,
   "id": "ec4c578f-b0d0-4293-95c9-c083e6cbfdaf",
   "metadata": {},
   "outputs": [
    {
     "name": "stdout",
     "output_type": "stream",
     "text": [
      "10\n",
      "2.57\n",
      "python Language\n"
     ]
    }
   ],
   "source": [
    "intvar , floatvar , strvar = 10,2.57,\"python Language\"\n",
    "print(intvar)\n",
    "print(floatvar)\n",
    "print(strvar)"
   ]
  },
  {
   "cell_type": "code",
   "execution_count": 24,
   "id": "61805520-3dd3-4acf-87fd-80647f4e57f1",
   "metadata": {},
   "outputs": [
    {
     "name": "stdout",
     "output_type": "stream",
     "text": [
      "44 44 44 44\n"
     ]
    }
   ],
   "source": [
    "p1 = p2 = p3 = p4 =44\n",
    "print(p1,p2,p3,p4)"
   ]
  },
  {
   "cell_type": "markdown",
   "id": "0cc0cfb4-62d3-4f19-840e-2bac63b2626c",
   "metadata": {},
   "source": [
    "# Dtata Types #\n",
    "\n",
    "# Numeric #"
   ]
  },
  {
   "cell_type": "code",
   "execution_count": 25,
   "id": "9d2a2ef5-2e57-4851-b607-0ebe8e997faa",
   "metadata": {},
   "outputs": [
    {
     "name": "stdout",
     "output_type": "stream",
     "text": [
      "10\n",
      "<class 'int'>\n",
      "28\n",
      "10  is integer? True\n"
     ]
    }
   ],
   "source": [
    "import sys\n",
    "val1 = 10\n",
    "print(val1)\n",
    "print(type(val1))\n",
    "print(sys.getsizeof(val1))\n",
    "print(val1, \" is integer?\", isinstance(val1,int))"
   ]
  },
  {
   "cell_type": "code",
   "execution_count": 26,
   "id": "e269254d-4585-4c12-97f3-a3d0a82da4b9",
   "metadata": {},
   "outputs": [
    {
     "name": "stdout",
     "output_type": "stream",
     "text": [
      "10\n",
      "<class 'int'>\n",
      "28\n",
      "10  is Integer? True\n"
     ]
    }
   ],
   "source": [
    "val1 = 10 \n",
    "print(val1)\n",
    "print(type(val1)) \n",
    "print(sys.getsizeof(val1)) \n",
    "print(val1, \" is Integer?\", isinstance(val1, int)) #"
   ]
  },
  {
   "cell_type": "code",
   "execution_count": 27,
   "id": "a5ea4a83-cae8-441e-bea5-ba0d99c1b88a",
   "metadata": {},
   "outputs": [
    {
     "name": "stdout",
     "output_type": "stream",
     "text": [
      "92.78\n",
      "<class 'float'>\n",
      "24\n",
      "92.78  is float? True\n"
     ]
    }
   ],
   "source": [
    "val2 = 92.78 \n",
    "print(val2)\n",
    "print(type(val2)) \n",
    "print(sys.getsizeof(val2))\n",
    "print(val2, \" is float?\", isinstance(val2, float))"
   ]
  },
  {
   "cell_type": "code",
   "execution_count": 28,
   "id": "ccf537ef-6c2b-4573-9869-0835b5f7d112",
   "metadata": {},
   "outputs": [
    {
     "name": "stdout",
     "output_type": "stream",
     "text": [
      "(25+10j)\n",
      "<class 'complex'>\n",
      "32\n",
      "(25+10j)  is complex? True\n"
     ]
    }
   ],
   "source": [
    "val3 = 25 + 10j\n",
    "print(val3)\n",
    "print(type(val3))\n",
    "print(sys.getsizeof(val3))\n",
    "print(val3, \" is complex?\", isinstance(val3, complex))"
   ]
  },
  {
   "cell_type": "code",
   "execution_count": 29,
   "id": "92ddb4fe-bf80-49ca-b900-0c02387db34d",
   "metadata": {},
   "outputs": [
    {
     "data": {
      "text/plain": [
       "28"
      ]
     },
     "execution_count": 29,
     "metadata": {},
     "output_type": "execute_result"
    }
   ],
   "source": [
    "sys.getsizeof(int())"
   ]
  },
  {
   "cell_type": "code",
   "execution_count": 30,
   "id": "bc3ab04a-7d61-4200-8f82-bb8eb9bfbff2",
   "metadata": {},
   "outputs": [
    {
     "data": {
      "text/plain": [
       "24"
      ]
     },
     "execution_count": 30,
     "metadata": {},
     "output_type": "execute_result"
    }
   ],
   "source": [
    "sys.getsizeof(float())"
   ]
  },
  {
   "cell_type": "code",
   "execution_count": 31,
   "id": "8c9e754b-0acb-409e-9a1d-cf5728199c63",
   "metadata": {},
   "outputs": [
    {
     "data": {
      "text/plain": [
       "32"
      ]
     },
     "execution_count": 31,
     "metadata": {},
     "output_type": "execute_result"
    }
   ],
   "source": [
    "sys.getsizeof(complex())"
   ]
  },
  {
   "cell_type": "markdown",
   "id": "de97ff20-5471-4cb4-9414-a989865da647",
   "metadata": {},
   "source": [
    "# Boolean #"
   ]
  },
  {
   "cell_type": "code",
   "execution_count": 32,
   "id": "b739a683-f48d-4ae3-9ba8-7a41a4356c36",
   "metadata": {},
   "outputs": [],
   "source": [
    "bool1 = True"
   ]
  },
  {
   "cell_type": "code",
   "execution_count": 33,
   "id": "d5404878-fe2d-4a34-a91a-259735b856a4",
   "metadata": {},
   "outputs": [],
   "source": [
    "bool2 = False"
   ]
  },
  {
   "cell_type": "code",
   "execution_count": 34,
   "id": "d77ad393-15df-4fd2-9b4c-b6e17134cd56",
   "metadata": {},
   "outputs": [
    {
     "name": "stdout",
     "output_type": "stream",
     "text": [
      "<class 'bool'>\n"
     ]
    }
   ],
   "source": [
    "print(type(bool1))"
   ]
  },
  {
   "cell_type": "code",
   "execution_count": 35,
   "id": "96f9d99a-98d7-4566-b060-af13732428a5",
   "metadata": {},
   "outputs": [
    {
     "name": "stdout",
     "output_type": "stream",
     "text": [
      "<class 'bool'>\n"
     ]
    }
   ],
   "source": [
    "print(type(bool2))"
   ]
  },
  {
   "cell_type": "code",
   "execution_count": 36,
   "id": "fde58a59-8a58-4e15-8464-f1ce2294e160",
   "metadata": {},
   "outputs": [
    {
     "data": {
      "text/plain": [
       "True"
      ]
     },
     "execution_count": 36,
     "metadata": {},
     "output_type": "execute_result"
    }
   ],
   "source": [
    "isinstance(bool1, bool)"
   ]
  },
  {
   "cell_type": "code",
   "execution_count": 37,
   "id": "1a3e8851-3972-451b-9c96-e864f9d170bc",
   "metadata": {},
   "outputs": [
    {
     "data": {
      "text/plain": [
       "False"
      ]
     },
     "execution_count": 37,
     "metadata": {},
     "output_type": "execute_result"
    }
   ],
   "source": [
    "bool(0)"
   ]
  },
  {
   "cell_type": "code",
   "execution_count": 38,
   "id": "7d38adc7-7a26-4810-87ee-91a713976fe8",
   "metadata": {},
   "outputs": [
    {
     "data": {
      "text/plain": [
       "False"
      ]
     },
     "execution_count": 38,
     "metadata": {},
     "output_type": "execute_result"
    }
   ],
   "source": [
    "bool(0)"
   ]
  },
  {
   "cell_type": "code",
   "execution_count": 39,
   "id": "cd747056-c0b1-4eb9-9489-6ff6f1671a52",
   "metadata": {},
   "outputs": [
    {
     "data": {
      "text/plain": [
       "True"
      ]
     },
     "execution_count": 39,
     "metadata": {},
     "output_type": "execute_result"
    }
   ],
   "source": [
    "bool(1)"
   ]
  },
  {
   "cell_type": "code",
   "execution_count": 40,
   "id": "64dbdbaf-0772-443b-bf29-8f0cb5c97f31",
   "metadata": {},
   "outputs": [
    {
     "data": {
      "text/plain": [
       "False"
      ]
     },
     "execution_count": 40,
     "metadata": {},
     "output_type": "execute_result"
    }
   ],
   "source": [
    "bool(None)"
   ]
  },
  {
   "cell_type": "code",
   "execution_count": 41,
   "id": "c2d24b6d-9ee5-414f-9294-ec1d5e52bb6d",
   "metadata": {},
   "outputs": [
    {
     "data": {
      "text/plain": [
       "False"
      ]
     },
     "execution_count": 41,
     "metadata": {},
     "output_type": "execute_result"
    }
   ],
   "source": [
    "bool (False)"
   ]
  },
  {
   "cell_type": "markdown",
   "id": "3d868e1e-c676-4e55-8921-5c7586c81f62",
   "metadata": {},
   "source": [
    " # String Creation #"
   ]
  },
  {
   "cell_type": "code",
   "execution_count": 83,
   "id": "f5c75da7-171d-4a9f-9bab-28a4fc1ec968",
   "metadata": {},
   "outputs": [
    {
     "name": "stdout",
     "output_type": "stream",
     "text": [
      "Go To Class\n"
     ]
    }
   ],
   "source": [
    "str1 = \"Go To Class\"\n",
    "print(str1)"
   ]
  },
  {
   "cell_type": "code",
   "execution_count": 84,
   "id": "0b4b6240-39e4-4530-a9cc-d4f0ec3ea52f",
   "metadata": {},
   "outputs": [
    {
     "name": "stdout",
     "output_type": "stream",
     "text": [
      "hello World\n"
     ]
    }
   ],
   "source": [
    "mystr = 'hello World'\n",
    "print(mystr)"
   ]
  },
  {
   "cell_type": "code",
   "execution_count": 85,
   "id": "ca49a13f-3c48-4b16-9d6e-6234daafe4b9",
   "metadata": {},
   "outputs": [
    {
     "name": "stdout",
     "output_type": "stream",
     "text": [
      "Hello World\n"
     ]
    }
   ],
   "source": [
    "mystr = \"Hello World\"\n",
    "print(mystr)"
   ]
  },
  {
   "cell_type": "code",
   "execution_count": 86,
   "id": "f01e5c0e-5545-4b81-a9bd-dcec93dc258f",
   "metadata": {},
   "outputs": [
    {
     "name": "stdout",
     "output_type": "stream",
     "text": [
      "Hello\n",
      "            World\n"
     ]
    }
   ],
   "source": [
    "mystr = '''Hello\n",
    "            World'''\n",
    "print(mystr)"
   ]
  },
  {
   "cell_type": "code",
   "execution_count": 87,
   "id": "4406249c-534a-4a39-a3ee-68837ebcd9fa",
   "metadata": {},
   "outputs": [
    {
     "name": "stdout",
     "output_type": "stream",
     "text": [
      "Hello\n",
      "            World\n"
     ]
    }
   ],
   "source": [
    "mystr = \"\"\"Hello\n",
    "            World\"\"\"\n",
    "print(mystr)"
   ]
  },
  {
   "cell_type": "code",
   "execution_count": 88,
   "id": "f0d9e707-8f25-4cc0-adc7-1e7297cedeca",
   "metadata": {},
   "outputs": [
    {
     "name": "stdout",
     "output_type": "stream",
     "text": [
      "Wellcome To Lab Everyone\n"
     ]
    }
   ],
   "source": [
    "mystr = ('Wellcome '\n",
    "         'To Lab '\n",
    "         'Everyone')\n",
    "print(mystr)"
   ]
  },
  {
   "cell_type": "code",
   "execution_count": 89,
   "id": "cdd33d7a-96f0-482c-aecd-e2f99b2f539b",
   "metadata": {},
   "outputs": [
    {
     "data": {
      "text/plain": [
       "'ThanksThanksThanksThanksThanks'"
      ]
     },
     "execution_count": 89,
     "metadata": {},
     "output_type": "execute_result"
    }
   ],
   "source": [
    "mystr2 = 'Thanks'\n",
    "mystr2 = mystr2*5\n",
    "mystr2"
   ]
  },
  {
   "cell_type": "code",
   "execution_count": 90,
   "id": "b2836a66-17d7-4c8f-94bd-5c8f35d485e4",
   "metadata": {},
   "outputs": [
    {
     "data": {
      "text/plain": [
       "30"
      ]
     },
     "execution_count": 90,
     "metadata": {},
     "output_type": "execute_result"
    }
   ],
   "source": [
    "len(mystr2)"
   ]
  },
  {
   "cell_type": "markdown",
   "id": "faa257c6-9759-4434-836f-a56f585593cb",
   "metadata": {},
   "source": [
    "# String Indexing #"
   ]
  },
  {
   "cell_type": "code",
   "execution_count": 91,
   "id": "f7395d76-665d-46a6-a55b-63c2e2cf1a82",
   "metadata": {},
   "outputs": [
    {
     "data": {
      "text/plain": [
       "'Go To Class'"
      ]
     },
     "execution_count": 91,
     "metadata": {},
     "output_type": "execute_result"
    }
   ],
   "source": [
    "str1"
   ]
  },
  {
   "cell_type": "code",
   "execution_count": 92,
   "id": "41d9866f-1c7b-4c1c-8e30-924bd8d6560f",
   "metadata": {},
   "outputs": [
    {
     "data": {
      "text/plain": [
       "'G'"
      ]
     },
     "execution_count": 92,
     "metadata": {},
     "output_type": "execute_result"
    }
   ],
   "source": [
    "str1[0]"
   ]
  },
  {
   "cell_type": "code",
   "execution_count": 93,
   "id": "2c97561c-d7a0-4f36-88e9-9e786d452f08",
   "metadata": {},
   "outputs": [
    {
     "data": {
      "text/plain": [
       "'s'"
      ]
     },
     "execution_count": 93,
     "metadata": {},
     "output_type": "execute_result"
    }
   ],
   "source": [
    "str1[len(str1)-1]"
   ]
  },
  {
   "cell_type": "code",
   "execution_count": 94,
   "id": "ccfdc3d3-262c-47df-b2c9-58121e757a5c",
   "metadata": {},
   "outputs": [
    {
     "data": {
      "text/plain": [
       "'s'"
      ]
     },
     "execution_count": 94,
     "metadata": {},
     "output_type": "execute_result"
    }
   ],
   "source": [
    "str1[-1]"
   ]
  },
  {
   "cell_type": "code",
   "execution_count": 95,
   "id": "e253ecd8-0857-40a4-984b-f0d20cdb443f",
   "metadata": {},
   "outputs": [
    {
     "data": {
      "text/plain": [
       "'C'"
      ]
     },
     "execution_count": 95,
     "metadata": {},
     "output_type": "execute_result"
    }
   ],
   "source": [
    "str1[6]"
   ]
  },
  {
   "cell_type": "code",
   "execution_count": 96,
   "id": "3a2c48df-0e36-4191-9416-2121fb045ebd",
   "metadata": {},
   "outputs": [
    {
     "data": {
      "text/plain": [
       "' '"
      ]
     },
     "execution_count": 96,
     "metadata": {},
     "output_type": "execute_result"
    }
   ],
   "source": [
    "str1[5]"
   ]
  },
  {
   "cell_type": "markdown",
   "id": "1425c4f6-c509-41c3-a131-769a4f175ab5",
   "metadata": {},
   "source": [
    "# String Slicing #"
   ]
  },
  {
   "cell_type": "code",
   "execution_count": 97,
   "id": "36a77742-0f82-4cbc-a462-b1644f25f847",
   "metadata": {},
   "outputs": [
    {
     "data": {
      "text/plain": [
       "'Go To'"
      ]
     },
     "execution_count": 97,
     "metadata": {},
     "output_type": "execute_result"
    }
   ],
   "source": [
    "str1[0:5]"
   ]
  },
  {
   "cell_type": "code",
   "execution_count": 98,
   "id": "6cc84b88-c4de-4635-8a79-e7694030613c",
   "metadata": {},
   "outputs": [
    {
     "data": {
      "text/plain": [
       "'Class'"
      ]
     },
     "execution_count": 98,
     "metadata": {},
     "output_type": "execute_result"
    }
   ],
   "source": [
    "str1[6:12]"
   ]
  },
  {
   "cell_type": "code",
   "execution_count": 99,
   "id": "b47e7f2b-e1e8-4332-9a98-e078c9863f6a",
   "metadata": {},
   "outputs": [
    {
     "data": {
      "text/plain": [
       "'lass'"
      ]
     },
     "execution_count": 99,
     "metadata": {},
     "output_type": "execute_result"
    }
   ],
   "source": [
    "str1[-4:]"
   ]
  },
  {
   "cell_type": "code",
   "execution_count": 100,
   "id": "bac85d7b-4bd6-491d-8f2b-6fc99aecf6c8",
   "metadata": {},
   "outputs": [
    {
     "data": {
      "text/plain": [
       "' Class'"
      ]
     },
     "execution_count": 100,
     "metadata": {},
     "output_type": "execute_result"
    }
   ],
   "source": [
    "str1[-6:]"
   ]
  },
  {
   "cell_type": "code",
   "execution_count": 101,
   "id": "09998f0d-09c9-4cdf-90a1-2a1e76f9152f",
   "metadata": {},
   "outputs": [
    {
     "data": {
      "text/plain": [
       "'Go T'"
      ]
     },
     "execution_count": 101,
     "metadata": {},
     "output_type": "execute_result"
    }
   ],
   "source": [
    "str1[:4]"
   ]
  },
  {
   "cell_type": "code",
   "execution_count": 102,
   "id": "a5dcb197-efc1-4c97-b50a-581ffcfc6de4",
   "metadata": {},
   "outputs": [
    {
     "data": {
      "text/plain": [
       "'Go To '"
      ]
     },
     "execution_count": 102,
     "metadata": {},
     "output_type": "execute_result"
    }
   ],
   "source": [
    "str1[:6]"
   ]
  },
  {
   "cell_type": "markdown",
   "id": "b4ec5c90-2c03-40b7-b4ff-f4ad1011bbf2",
   "metadata": {},
   "source": [
    "# Update & Delete String #"
   ]
  },
  {
   "cell_type": "code",
   "execution_count": 103,
   "id": "2d6559ad-b612-42fd-bf59-3f7947cf6c47",
   "metadata": {},
   "outputs": [
    {
     "data": {
      "text/plain": [
       "'Go To Class'"
      ]
     },
     "execution_count": 103,
     "metadata": {},
     "output_type": "execute_result"
    }
   ],
   "source": [
    "str1"
   ]
  },
  {
   "cell_type": "code",
   "execution_count": 104,
   "id": "b5a2cd85-49cd-4a81-88d1-73baca7d9889",
   "metadata": {},
   "outputs": [
    {
     "ename": "TypeError",
     "evalue": "'str' object does not support item assignment",
     "output_type": "error",
     "traceback": [
      "\u001b[1;31m---------------------------------------------------------------------------\u001b[0m",
      "\u001b[1;31mTypeError\u001b[0m                                 Traceback (most recent call last)",
      "Cell \u001b[1;32mIn[104], line 1\u001b[0m\n\u001b[1;32m----> 1\u001b[0m \u001b[43mstr1\u001b[49m\u001b[43m[\u001b[49m\u001b[38;5;241;43m0\u001b[39;49m\u001b[43m:\u001b[49m\u001b[38;5;241;43m5\u001b[39;49m\u001b[43m]\u001b[49m \u001b[38;5;241m=\u001b[39m \u001b[38;5;124m'\u001b[39m\u001b[38;5;124mHOLAA\u001b[39m\u001b[38;5;124m'\u001b[39m\n",
      "\u001b[1;31mTypeError\u001b[0m: 'str' object does not support item assignment"
     ]
    }
   ],
   "source": [
    "str1[0:5] = 'HOLAA'"
   ]
  },
  {
   "cell_type": "code",
   "execution_count": 105,
   "id": "25925030-b331-4921-9bfe-489cbe0b25ac",
   "metadata": {},
   "outputs": [
    {
     "ename": "NameError",
     "evalue": "name 'srt1' is not defined",
     "output_type": "error",
     "traceback": [
      "\u001b[1;31m---------------------------------------------------------------------------\u001b[0m",
      "\u001b[1;31mNameError\u001b[0m                                 Traceback (most recent call last)",
      "Cell \u001b[1;32mIn[105], line 2\u001b[0m\n\u001b[0;32m      1\u001b[0m \u001b[38;5;28;01mdel\u001b[39;00m str1\n\u001b[1;32m----> 2\u001b[0m \u001b[38;5;28mprint\u001b[39m(\u001b[43msrt1\u001b[49m)\n",
      "\u001b[1;31mNameError\u001b[0m: name 'srt1' is not defined"
     ]
    }
   ],
   "source": [
    "del str1\n",
    "print(srt1)"
   ]
  },
  {
   "cell_type": "markdown",
   "id": "378ea5d9-b2e0-4172-a371-16844c4266c6",
   "metadata": {},
   "source": [
    "# String Concatenation #"
   ]
  },
  {
   "cell_type": "code",
   "execution_count": 106,
   "id": "2d7e940d-2eda-4251-8b64-8ee003f2cbc8",
   "metadata": {},
   "outputs": [
    {
     "name": "stdout",
     "output_type": "stream",
     "text": [
      "HiRohini\n"
     ]
    }
   ],
   "source": [
    "s1 = \"Hi\"\n",
    "s2 = \"Rohini\"\n",
    "s3 = s1 + s2\n",
    "print(s3)"
   ]
  },
  {
   "cell_type": "code",
   "execution_count": null,
   "id": "38fe9964-13f2-4ac8-9d9e-ea1182ee36ed",
   "metadata": {},
   "outputs": [],
   "source": []
  },
  {
   "cell_type": "code",
   "execution_count": null,
   "id": "6986935d-57d6-4f68-9606-95adfa2fb3a5",
   "metadata": {},
   "outputs": [],
   "source": []
  },
  {
   "cell_type": "code",
   "execution_count": null,
   "id": "da69f2d4-6312-4cc8-8ab0-7e07d22f229d",
   "metadata": {},
   "outputs": [],
   "source": []
  },
  {
   "cell_type": "code",
   "execution_count": null,
   "id": "7e18fa01-f6f3-40e8-8e64-0df41e20f9d4",
   "metadata": {},
   "outputs": [],
   "source": []
  },
  {
   "cell_type": "code",
   "execution_count": null,
   "id": "c7bcc831-f4c0-4ea8-a046-82047cad3b60",
   "metadata": {},
   "outputs": [],
   "source": []
  }
 ],
 "metadata": {
  "kernelspec": {
   "display_name": "Python 3 (ipykernel)",
   "language": "python",
   "name": "python3"
  },
  "language_info": {
   "codemirror_mode": {
    "name": "ipython",
    "version": 3
   },
   "file_extension": ".py",
   "mimetype": "text/x-python",
   "name": "python",
   "nbconvert_exporter": "python",
   "pygments_lexer": "ipython3",
   "version": "3.12.5"
  }
 },
 "nbformat": 4,
 "nbformat_minor": 5
}
