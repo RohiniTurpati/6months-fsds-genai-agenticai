{
 "cells": [
  {
   "cell_type": "code",
   "execution_count": 1,
   "id": "23dc704f-5581-4438-9638-a5aea608a940",
   "metadata": {},
   "outputs": [],
   "source": [
    "import numpy as np"
   ]
  },
  {
   "cell_type": "code",
   "execution_count": 2,
   "id": "69516915-f754-4fbf-8908-a811f932c8d5",
   "metadata": {},
   "outputs": [
    {
     "name": "stdout",
     "output_type": "stream",
     "text": [
      "Array a : [1 2 3]\n"
     ]
    }
   ],
   "source": [
    "a = np.array([1, 2, 3])\n",
    "print(\"Array a :\", a)"
   ]
  },
  {
   "cell_type": "code",
   "execution_count": 3,
   "id": "f03a2375-f97c-4eae-b658-fbc34a839085",
   "metadata": {},
   "outputs": [
    {
     "name": "stdout",
     "output_type": "stream",
     "text": [
      "Array b: [0 2 4 6 8]\n"
     ]
    }
   ],
   "source": [
    "b = np.arange(0, 10, 2)\n",
    "print(\"Array b:\", b)"
   ]
  },
  {
   "cell_type": "code",
   "execution_count": 4,
   "id": "bf57558c-94b9-451d-98f9-64ba7f8b9842",
   "metadata": {},
   "outputs": [
    {
     "name": "stdout",
     "output_type": "stream",
     "text": [
      "Array d:\n",
      " [[0. 0. 0.]\n",
      " [0. 0. 0.]]\n"
     ]
    }
   ],
   "source": [
    "d = np.zeros((2, 3))\n",
    "print(\"Array d:\\n\", d)"
   ]
  },
  {
   "cell_type": "code",
   "execution_count": 6,
   "id": "3c819b3c-5f38-4c32-817b-05a0261476ff",
   "metadata": {},
   "outputs": [
    {
     "name": "stdout",
     "output_type": "stream",
     "text": [
      "Array e:\n",
      " [[1. 1.]\n",
      " [1. 1.]\n",
      " [1. 1.]]\n"
     ]
    }
   ],
   "source": [
    "e = np.ones((3, 2))\n",
    "print(\"Array e:\\n\",e)"
   ]
  },
  {
   "cell_type": "code",
   "execution_count": 7,
   "id": "a487039f-f8cf-4fef-9ccb-06cc7864fb58",
   "metadata": {},
   "outputs": [
    {
     "name": "stdout",
     "output_type": "stream",
     "text": [
      "Inentity matrix f:\n",
      " [[1. 0. 0. 0.]\n",
      " [0. 1. 0. 0.]\n",
      " [0. 0. 1. 0.]\n",
      " [0. 0. 0. 1.]]\n"
     ]
    }
   ],
   "source": [
    "f = np.eye(4)\n",
    "print(\"Inentity matrix f:\\n\", f)"
   ]
  },
  {
   "cell_type": "markdown",
   "id": "90371ba9-25db-4f6d-89b9-7081e35c2bc5",
   "metadata": {},
   "source": [
    " # Array Manipulation Functions #"
   ]
  },
  {
   "cell_type": "code",
   "execution_count": 9,
   "id": "7d6ce889-0171-470f-9cbf-2f99b8b56837",
   "metadata": {},
   "outputs": [
    {
     "name": "stdout",
     "output_type": "stream",
     "text": [
      "Reshaped array: [[1 2 3]]\n"
     ]
    }
   ],
   "source": [
    "a1 = np.array([1, 2, 3])\n",
    "reshaped = np.reshape(a1, (1, 3))\n",
    "print(\"Reshaped array:\", reshaped)"
   ]
  },
  {
   "cell_type": "code",
   "execution_count": 11,
   "id": "345eff8d-04f7-49e0-a479-e16a66000447",
   "metadata": {},
   "outputs": [
    {
     "name": "stdout",
     "output_type": "stream",
     "text": [
      "Flattened array: [1 2 3 4]\n"
     ]
    }
   ],
   "source": [
    "f1 = np.array([[1, 2], [3, 4]])\n",
    "flattened = np.ravel(f1)\n",
    "print(\"Flattened array:\", flattened)"
   ]
  },
  {
   "cell_type": "code",
   "execution_count": 12,
   "id": "89c5f062-32cd-4f6d-8c86-06ea3b1c736e",
   "metadata": {},
   "outputs": [
    {
     "name": "stdout",
     "output_type": "stream",
     "text": [
      "Transposed array:\n",
      " [[1 3]\n",
      " [2 4]]\n"
     ]
    }
   ],
   "source": [
    "e1 = np.array([[1, 2], [3, 4]])\n",
    "transposed = np.transpose(e1)\n",
    "print(\"Transposed array:\\n\", transposed)"
   ]
  },
  {
   "cell_type": "code",
   "execution_count": 13,
   "id": "1ac98063-11ab-4c4c-8ec4-8d1f4a00f3e0",
   "metadata": {},
   "outputs": [
    {
     "name": "stdout",
     "output_type": "stream",
     "text": [
      "Stacked arrays:\n",
      " [[1 2]\n",
      " [3 4]]\n"
     ]
    }
   ],
   "source": [
    "a2 = np.array([1, 2])\n",
    "b2 = np.array([3, 4])\n",
    "stacked = np.vstack([a2, b2])\n",
    "print(\"Stacked arrays:\\n\", stacked)"
   ]
  },
  {
   "cell_type": "markdown",
   "id": "c9022105-fe40-4067-b4fd-2d7e4fa9dff9",
   "metadata": {},
   "source": [
    "# Mathematical Functions #"
   ]
  },
  {
   "cell_type": "code",
   "execution_count": 14,
   "id": "b8833e44-d403-417d-afdd-9e66a0aca713",
   "metadata": {},
   "outputs": [
    {
     "name": "stdout",
     "output_type": "stream",
     "text": [
      "Added 2 to g: [3 4 5 6]\n"
     ]
    }
   ],
   "source": [
    "g = np.array([1, 2, 3, 4])\n",
    "added = np. add(g, 2)\n",
    "print(\"Added 2 to g:\", added)"
   ]
  },
  {
   "cell_type": "code",
   "execution_count": 15,
   "id": "562b14d7-1deb-4a6d-8baa-ea8cea151c4b",
   "metadata": {},
   "outputs": [
    {
     "name": "stdout",
     "output_type": "stream",
     "text": [
      "Squared g: [ 1  4  9 16]\n"
     ]
    }
   ],
   "source": [
    "squared = np.power(g, 2)\n",
    "print(\"Squared g:\", squared)"
   ]
  },
  {
   "cell_type": "code",
   "execution_count": 16,
   "id": "45cb1f86-0b96-47c9-ad7a-0fe8737e58de",
   "metadata": {},
   "outputs": [
    {
     "name": "stdout",
     "output_type": "stream",
     "text": [
      "Square root of g: [1.         1.41421356 1.73205081 2.        ]\n"
     ]
    }
   ],
   "source": [
    "sqrt_val = np.sqrt(g)\n",
    "print(\"Square root of g:\", sqrt_val)\n",
    "                   "
   ]
  },
  {
   "cell_type": "code",
   "execution_count": 17,
   "id": "f3b03df8-cf30-464c-a871-84a13e7afea8",
   "metadata": {},
   "outputs": [
    {
     "name": "stdout",
     "output_type": "stream",
     "text": [
      "[1 2 3]\n",
      "[1 2 3 4]\n"
     ]
    }
   ],
   "source": [
    "print(a1)\n",
    "print(g)"
   ]
  },
  {
   "cell_type": "code",
   "execution_count": 18,
   "id": "d70276c5-bd45-4b34-9ffb-824bbe1c8ae0",
   "metadata": {},
   "outputs": [
    {
     "ename": "ValueError",
     "evalue": "shapes (3,) and (4,) not aligned: 3 (dim 0) != 4 (dim 0)",
     "output_type": "error",
     "traceback": [
      "\u001b[1;31m---------------------------------------------------------------------------\u001b[0m",
      "\u001b[1;31mValueError\u001b[0m                                Traceback (most recent call last)",
      "Cell \u001b[1;32mIn[18], line 2\u001b[0m\n\u001b[0;32m      1\u001b[0m a2 \u001b[38;5;241m=\u001b[39m np\u001b[38;5;241m.\u001b[39marray([\u001b[38;5;241m1\u001b[39m, \u001b[38;5;241m2\u001b[39m, \u001b[38;5;241m3\u001b[39m])\n\u001b[1;32m----> 2\u001b[0m dot_product \u001b[38;5;241m=\u001b[39m \u001b[43mnp\u001b[49m\u001b[38;5;241;43m.\u001b[39;49m\u001b[43mdot\u001b[49m\u001b[43m(\u001b[49m\u001b[43ma2\u001b[49m\u001b[43m,\u001b[49m\u001b[43m \u001b[49m\u001b[43mg\u001b[49m\u001b[43m)\u001b[49m\n\u001b[0;32m      3\u001b[0m \u001b[38;5;28mprint\u001b[39m(\u001b[38;5;124m\"\u001b[39m\u001b[38;5;124mDot product of a and g:\u001b[39m\u001b[38;5;124m\"\u001b[39m, dot_product)\n",
      "\u001b[1;31mValueError\u001b[0m: shapes (3,) and (4,) not aligned: 3 (dim 0) != 4 (dim 0)"
     ]
    }
   ],
   "source": [
    "a2 = np.array([1, 2, 3])\n",
    "dot_product = np.dot(a2, g)\n",
    "print(\"Dot product of a and g:\", dot_product)"
   ]
  },
  {
   "cell_type": "code",
   "execution_count": 19,
   "id": "3ff2a277-1768-482c-a954-2abee4291bd3",
   "metadata": {},
   "outputs": [
    {
     "name": "stdout",
     "output_type": "stream",
     "text": [
      "[1 2 3]\n",
      "[1 2 3]\n"
     ]
    }
   ],
   "source": [
    "print(a)\n",
    "print(a1)"
   ]
  },
  {
   "cell_type": "code",
   "execution_count": 20,
   "id": "ffe329d8-5993-4326-be73-4ca7b4d7c08d",
   "metadata": {},
   "outputs": [
    {
     "name": "stdout",
     "output_type": "stream",
     "text": [
      "Dot product of a1 and a: 14\n"
     ]
    }
   ],
   "source": [
    "a3 = np.array([1, 2, 3])\n",
    "dot_product = np.dot(a1, a)\n",
    "print(\"Dot product of a1 and a:\", dot_product)"
   ]
  },
  {
   "cell_type": "markdown",
   "id": "af93c45b-0bb0-48b3-8a64-600d2a9635d6",
   "metadata": {},
   "source": [
    "# Statistical Functions #"
   ]
  },
  {
   "cell_type": "code",
   "execution_count": 22,
   "id": "0f6f9ee4-9619-46f5-99ce-421481f77dd0",
   "metadata": {},
   "outputs": [
    {
     "name": "stdout",
     "output_type": "stream",
     "text": [
      "Mean of s: 2.5\n"
     ]
    }
   ],
   "source": [
    "s = np.array([1, 2, 3, 4])\n",
    "mean = np.mean(s)\n",
    "print(\"Mean of s:\", mean)"
   ]
  },
  {
   "cell_type": "code",
   "execution_count": 23,
   "id": "719ab59b-486e-4867-9d4f-a1aa973c7f50",
   "metadata": {},
   "outputs": [
    {
     "name": "stdout",
     "output_type": "stream",
     "text": [
      "Standard deviation of s: 1.118033988749895\n"
     ]
    }
   ],
   "source": [
    "std_dev = np.std(s)\n",
    "print(\"Standard deviation of s:\", std_dev)"
   ]
  },
  {
   "cell_type": "code",
   "execution_count": 24,
   "id": "1ca5fc54-27cd-4ed4-8fa6-f3cfad4c92ea",
   "metadata": {},
   "outputs": [
    {
     "name": "stdout",
     "output_type": "stream",
     "text": [
      "Min of s: 1\n"
     ]
    }
   ],
   "source": [
    "minimum = np.min(s)\n",
    "print(\"Min of s:\", minimum)"
   ]
  },
  {
   "cell_type": "code",
   "execution_count": 25,
   "id": "92002326-ff8c-423b-befc-bd05b9571fb0",
   "metadata": {},
   "outputs": [
    {
     "name": "stdout",
     "output_type": "stream",
     "text": [
      "max of s: 4\n"
     ]
    }
   ],
   "source": [
    "maximum = np.max(s)\n",
    "print(\"max of s:\", maximum)"
   ]
  },
  {
   "cell_type": "markdown",
   "id": "81faacd5-bfa8-4e8a-ac43-db7cd4cbf3a6",
   "metadata": {},
   "source": [
    "# Linear Algebra Functions #"
   ]
  },
  {
   "cell_type": "code",
   "execution_count": 26,
   "id": "cfd3996e-1d52-476e-9a67-76edf2f77968",
   "metadata": {},
   "outputs": [],
   "source": [
    "matrix = np.array([[1, 2], [3, 4]])"
   ]
  },
  {
   "cell_type": "code",
   "execution_count": 27,
   "id": "1aa1a1b6-cbc8-48d6-ab4b-79244302c0e9",
   "metadata": {},
   "outputs": [
    {
     "name": "stdout",
     "output_type": "stream",
     "text": [
      "Random values: [0.40853486 0.70730198 0.87953484]\n"
     ]
    }
   ],
   "source": [
    "random_vals = np.random.rand(3)\n",
    "print(\"Random values:\", random_vals)"
   ]
  },
  {
   "cell_type": "code",
   "execution_count": 28,
   "id": "e6d1a717-2d52-4b93-a1f0-333f6f305008",
   "metadata": {},
   "outputs": [],
   "source": [
    "np.random.seed(0)"
   ]
  },
  {
   "cell_type": "code",
   "execution_count": 29,
   "id": "6e14d24b-c695-40cd-bfaa-e35b79144042",
   "metadata": {},
   "outputs": [
    {
     "name": "stdout",
     "output_type": "stream",
     "text": [
      "Random values: [0.5488135  0.71518937 0.60276338]\n"
     ]
    }
   ],
   "source": [
    "random_vals = np.random.rand(3)\n",
    "print(\"Random values:\", random_vals)"
   ]
  },
  {
   "cell_type": "code",
   "execution_count": 30,
   "id": "6fc7ba29-5383-41c6-8fc0-5226001403d2",
   "metadata": {},
   "outputs": [
    {
     "name": "stdout",
     "output_type": "stream",
     "text": [
      "Random integers: [3 7 9 3 5]\n"
     ]
    }
   ],
   "source": [
    "rand_ints = np.random.randint(0, 10, size=5)\n",
    "print(\"Random integers:\", rand_ints)"
   ]
  },
  {
   "cell_type": "code",
   "execution_count": 31,
   "id": "820262da-a45c-42ee-8c38-05c9dc1e342f",
   "metadata": {},
   "outputs": [],
   "source": [
    "np.random.seed(0)"
   ]
  },
  {
   "cell_type": "code",
   "execution_count": 32,
   "id": "657c2cd3-c895-462b-9d63-f139c5bdb872",
   "metadata": {},
   "outputs": [
    {
     "name": "stdout",
     "output_type": "stream",
     "text": [
      "Random integers: [5 0 3 3 7]\n"
     ]
    }
   ],
   "source": [
    "rand_ints = np.random.randint(0, 10, size=5)\n",
    "print(\"Random integers:\", rand_ints)"
   ]
  },
  {
   "cell_type": "markdown",
   "id": "fc9a76f2-17eb-41f9-98d4-dbc56b2ee2cb",
   "metadata": {},
   "source": [
    "# Boolean & Logical Functions #"
   ]
  },
  {
   "cell_type": "code",
   "execution_count": 33,
   "id": "0034dc73-510a-4065-a174-59c449df2f0d",
   "metadata": {},
   "outputs": [
    {
     "name": "stdout",
     "output_type": "stream",
     "text": [
      "All elements True: False\n"
     ]
    }
   ],
   "source": [
    "logical_test = np.array([True, False, True])\n",
    "all_true = np.all(logical_test)\n",
    "print(\"All elements True:\", all_true)"
   ]
  },
  {
   "cell_type": "code",
   "execution_count": 34,
   "id": "1c6bbf53-3400-45c3-bb2e-c9965f17be9c",
   "metadata": {},
   "outputs": [
    {
     "name": "stdout",
     "output_type": "stream",
     "text": [
      "All element true: False\n"
     ]
    }
   ],
   "source": [
    "logical_test = np.array([True, False, True])\n",
    "all_true = np.all(logical_test)\n",
    "print(\"All element true:\", all_true)"
   ]
  },
  {
   "cell_type": "code",
   "execution_count": 35,
   "id": "97602b5d-f238-4730-a2c4-184e7d25707a",
   "metadata": {},
   "outputs": [
    {
     "name": "stdout",
     "output_type": "stream",
     "text": [
      "All element True: False\n"
     ]
    }
   ],
   "source": [
    "logical_test = np.array([False, True, False])\n",
    "all_true = np.all(logical_test)\n",
    "print(\"All element True:\",all_true)"
   ]
  },
  {
   "cell_type": "code",
   "execution_count": 36,
   "id": "7042f61b-1978-4d84-9f8a-8a3cf0ba58bf",
   "metadata": {},
   "outputs": [
    {
     "name": "stdout",
     "output_type": "stream",
     "text": [
      "Any element True: True\n"
     ]
    }
   ],
   "source": [
    "any_true = np.any(logical_test)\n",
    "print(\"Any element True:\",any_true)"
   ]
  },
  {
   "cell_type": "markdown",
   "id": "e0f4db31-b93b-427c-a09c-4cfbd5906f43",
   "metadata": {},
   "source": [
    "# Set Operations #"
   ]
  },
  {
   "cell_type": "code",
   "execution_count": 37,
   "id": "a5b3bdb8-9b7e-407f-a9e5-083459166672",
   "metadata": {},
   "outputs": [
    {
     "name": "stdout",
     "output_type": "stream",
     "text": [
      "Interrsection of a and b: [3 4]\n"
     ]
    }
   ],
   "source": [
    "set_a = np.array([1, 2, 3, 4])\n",
    "set_b = np.array([3, 4, 5, 6])\n",
    "intersection = np.intersect1d(set_a, set_b)\n",
    "print(\"Interrsection of a and b:\", intersection)"
   ]
  },
  {
   "cell_type": "code",
   "execution_count": 38,
   "id": "45cbfbe0-f1fc-46cc-a90b-372ac0f76832",
   "metadata": {},
   "outputs": [
    {
     "name": "stdout",
     "output_type": "stream",
     "text": [
      "Union of a and b: [1 2 3 4 5 6]\n"
     ]
    }
   ],
   "source": [
    "union = np.union1d(set_a, set_b)\n",
    "print(\"Union of a and b:\", union)"
   ]
  },
  {
   "cell_type": "markdown",
   "id": "3212ca47-efc6-4bff-9010-1b5513f24c9e",
   "metadata": {},
   "source": [
    "# Array Atribute Functions #"
   ]
  },
  {
   "cell_type": "code",
   "execution_count": 39,
   "id": "2e138d3d-0ba1-43aa-943f-7d7e37d5e4d2",
   "metadata": {},
   "outputs": [
    {
     "name": "stdout",
     "output_type": "stream",
     "text": [
      "Shape of a: (3,)\n",
      "Size of a: 3\n",
      "Number of dimensions of a: 1\n",
      "Data type of a: int32\n"
     ]
    }
   ],
   "source": [
    "a = np.array([1, 2, 3])\n",
    "shape = a.shape\n",
    "size = a.size\n",
    "dimensions = a.ndim\n",
    "dtype = a.dtype\n",
    "print(\"Shape of a:\", shape)\n",
    "print(\"Size of a:\", size)\n",
    "print(\"Number of dimensions of a:\", dimensions)\n",
    "print(\"Data type of a:\",dtype)"
   ]
  },
  {
   "cell_type": "markdown",
   "id": "e87c0451-15cf-4082-91a5-06e10a5f1175",
   "metadata": {},
   "source": [
    "# Othetr Functions #"
   ]
  },
  {
   "cell_type": "code",
   "execution_count": 41,
   "id": "e72a2478-df23-443f-9711-67afce51d445",
   "metadata": {},
   "outputs": [
    {
     "name": "stdout",
     "output_type": "stream",
     "text": [
      "Copied array: [1 2 3]\n"
     ]
    }
   ],
   "source": [
    "a = np.array([1, 2, 3])\n",
    "copied_array = np.copy(a)\n",
    "print(\"Copied array:\", copied_array)\n"
   ]
  },
  {
   "cell_type": "code",
   "execution_count": 43,
   "id": "86962c5b-a259-4756-b2b3-387241519a19",
   "metadata": {},
   "outputs": [
    {
     "name": "stdout",
     "output_type": "stream",
     "text": [
      "Size of a in bytes: 12\n"
     ]
    }
   ],
   "source": [
    "array_size_in_bytes = a.nbytes\n",
    "print(\"Size of a in bytes:\", array_size_in_bytes)"
   ]
  },
  {
   "cell_type": "code",
   "execution_count": 44,
   "id": "2c78bdc6-c5d1-4154-8666-a690db2e8ede",
   "metadata": {},
   "outputs": [
    {
     "name": "stdout",
     "output_type": "stream",
     "text": [
      "Do a and copied_array share memory? False\n"
     ]
    }
   ],
   "source": [
    "shared = np.shares_memory(a, copied_array)\n",
    "print(\"Do a and copied_array share memory?\", shared)"
   ]
  },
  {
   "cell_type": "code",
   "execution_count": null,
   "id": "39bb58b5-31b0-43c6-939f-a895845e9c5e",
   "metadata": {},
   "outputs": [],
   "source": []
  },
  {
   "cell_type": "code",
   "execution_count": null,
   "id": "40200eb8-9539-4dee-b24f-57eb0bb8202b",
   "metadata": {},
   "outputs": [],
   "source": []
  }
 ],
 "metadata": {
  "kernelspec": {
   "display_name": "Python 3 (ipykernel)",
   "language": "python",
   "name": "python3"
  },
  "language_info": {
   "codemirror_mode": {
    "name": "ipython",
    "version": 3
   },
   "file_extension": ".py",
   "mimetype": "text/x-python",
   "name": "python",
   "nbconvert_exporter": "python",
   "pygments_lexer": "ipython3",
   "version": "3.12.5"
  }
 },
 "nbformat": 4,
 "nbformat_minor": 5
}
